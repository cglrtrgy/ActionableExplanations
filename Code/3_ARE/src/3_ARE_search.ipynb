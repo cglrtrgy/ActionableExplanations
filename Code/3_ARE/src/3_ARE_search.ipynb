{
 "cells": [
  {
   "cell_type": "code",
   "execution_count": 1,
   "id": "9257a487",
   "metadata": {
    "ExecuteTime": {
     "end_time": "2024-03-15T20:46:55.228449Z",
     "start_time": "2024-03-15T20:46:55.003589Z"
    }
   },
   "outputs": [],
   "source": [
    "SEARCH_OPTIONS = [\"me\", \"mce\"]\n",
    "\n",
    "import argparse, sys\n",
    "from Problem import Problem\n",
    "import copy\n",
    "\n",
    "from queue import PriorityQueue, Queue\n",
    "import copy\n",
    "\n",
    "from PDDLhelp import *\n",
    "\n",
    "import time\n",
    "import os\n",
    "\n",
    "import fnmatch\n",
    "\n",
    "from collections import Counter\n",
    "\n",
    "import pandas as pd\n",
    "\n",
    "import pickle\n",
    "\n",
    "from pddl import parse_domain, parse_problem"
   ]
  },
  {
   "cell_type": "code",
   "execution_count": null,
   "id": "3defd4c8",
   "metadata": {
    "ExecuteTime": {
     "end_time": "2024-03-15T20:46:55.374177Z",
     "start_time": "2024-03-15T20:46:55.252035Z"
    }
   },
   "outputs": [],
   "source": [
    "!pwd"
   ]
  },
  {
   "cell_type": "code",
   "execution_count": 3,
   "id": "8cc15a0f",
   "metadata": {
    "ExecuteTime": {
     "end_time": "2024-03-15T20:46:55.378646Z",
     "start_time": "2024-03-15T20:46:55.375945Z"
    }
   },
   "outputs": [],
   "source": [
    "def get_freq_list_from_solution_list_of_sets (solution_list_of_sets):\n",
    "    # Count the number of elements in each set\n",
    "    element_counts = [len(inner_set) for inner_set in solution_list_of_sets]\n",
    "\n",
    "    # Count the frequency of each count\n",
    "    frequency_list = Counter(element_counts)\n",
    "\n",
    "    # Find the maximum count\n",
    "    max_count = max(element_counts)\n",
    "\n",
    "    # Create a list of frequencies in the desired format\n",
    "    frequency_list = [frequency_list.get(i, 0) for i in range(max_count + 1)]\n",
    "    return frequency_list"
   ]
  },
  {
   "cell_type": "code",
   "execution_count": null,
   "id": "1e773303",
   "metadata": {
    "ExecuteTime": {
     "end_time": "2024-03-15T20:46:55.384402Z",
     "start_time": "2024-03-15T20:46:55.380309Z"
    }
   },
   "outputs": [],
   "source": [
    "\n",
    "\n",
    "#Long table entries\n",
    "# base_domain_path= \"/Users/xxx/Documents/IROS_experiments/Domains_long/1_Logistics\"\n",
    "base_domain_path = \"/Users/xxx/Documents/IROS_experiments/Domains_long/2_Depots\"\n",
    "# base_domain_path = \"/Users/xxx/Documents/IROS_experiments/Domains_long/3_Freecell\"\n",
    "# base_domain_path = \"/Users/xxx/Documents/IROS_experiments/Domains_long/4_Rovers\"\n",
    "# base_domain_path = \"/Users/xxx/Documents/IROS_experiments/Domains_long/5_Satellite\"\n",
    "\n",
    "\n",
    "# base_domain_path = \"/Users/xxx/Documents/IROS_experiments/Domains_short/1_Blocks\"\n",
    "# base_domain_path = \"/Users/xxx/Documents/IROS_experiments/Domains_short/2_Zenotravel\"\n",
    "# base_domain_path = \"/Users/xxx/Documents/IROS_experiments/Domains_short/3_Logistics\"\n",
    "\n",
    "\n",
    "\n",
    "\n",
    "\n",
    "problem_folder_list =[]\n",
    "\n",
    "for item in sorted(os.listdir(base_domain_path)):\n",
    "    # Full path of the item\n",
    "    item_path = os.path.join(base_domain_path, item)\n",
    "    # Check if the item is a directory and starts with 'p'\n",
    "    if os.path.isdir(item_path) and item.startswith('p'):\n",
    "        problem_folder_list.append(item_path)\n",
    "\n",
    "# Print or use the list as needed\n",
    "print(problem_folder_list)\n"
   ]
  },
  {
   "cell_type": "code",
   "execution_count": null,
   "id": "e2b20f40",
   "metadata": {
    "ExecuteTime": {
     "end_time": "2024-03-15T20:47:20.359187Z",
     "start_time": "2024-03-15T20:46:55.385912Z"
    }
   },
   "outputs": [],
   "source": [
    "df = pd.DataFrame(columns=['Domain', 'Problem_no', 'Robot_Plan_Size', 'Human_Plan_Size','Solutions Length', 'Total Time',  'Explanation Solutions', 'Excuse Solutions' ])\n",
    "\n",
    "\n",
    "robot_domain_path = base_domain_path + \"/robot_domain.pddl\"\n",
    "\n",
    "\n",
    "for problem_folder in problem_folder_list[3:4]:\n",
    "#     print(edit_folder_name)\n",
    "\n",
    "    # Split the string by '/'\n",
    "    parts = problem_folder.split('/')\n",
    "\n",
    "    # The last element of the list is the string after the last '/'\n",
    "    domain_name = parts[-2]\n",
    "    problem_no = parts[-1]\n",
    "\n",
    "\n",
    "    #Domain file with real PDDL model of robot.\n",
    "    #Domain file of the problem\n",
    "    model_robot = robot_domain_path\n",
    "\n",
    "    #Domain file with human model of the robot.\n",
    "    #Domain file of the problem (same with model_robot)\n",
    "    model_human = base_domain_path + \"/human_domain.pddl\"\n",
    "\n",
    "    #Problem file for robot.\n",
    "    problem_robot = f\"{problem_folder}/comb_solv_prob.pddl\"\n",
    "    \n",
    "    #unsolvable_problem_file\n",
    "    #original given unsolvable problem file\n",
    "    hproblem = f\"{problem_folder}/solv_problem.pddl\"\n",
    "\n",
    "\n",
    "    #Problem file template.\n",
    "    problem_template = f\"{problem_folder}/bs_problem_template.pddl\"\n",
    "    \n",
    "    #add   %OPERATORS% as a placeholder for all the actions\n",
    "    domain_templete = base_domain_path + \"/domain_template.pddl\"\n",
    "\n",
    "\n",
    "    \n",
    "    robot_plan_file = f\"{problem_folder}/robot.plan\"\n",
    "    human_plan_file = f\"{problem_folder}/human.plan\"\n",
    "\n",
    "\n",
    "    ground = None\n",
    "    approx =None\n",
    "    heuristic = None\n",
    "    # hproblem = None\n",
    "    \n",
    "\n",
    "\n",
    "    pr_obj = Problem(model_robot, model_human, problem_robot, domain_templete,\n",
    "     ground, approx, heuristic,\n",
    "     problem_template, hproblem, robot_plan_file, human_plan_file)\n",
    "\n",
    "    start_time = time.time()\n",
    "\n",
    "    plan = pr_obj.MeSearch()\n",
    "\n",
    "    end_time = time.time()\n",
    "\n",
    "    total_time = end_time - start_time\n",
    "\n",
    "    print(\"Execution time:\", total_time)\n",
    "\n",
    "    # print(model_robot)\n",
    "    print(total_time, len(pr_obj.solutions), pr_obj.final_node_number)\n",
    "\n",
    "    pr_obj.previous_difference\n",
    "\n",
    "    new_row = pd.DataFrame({\n",
    "        'Domain': [domain_name],\n",
    "        'Problem_no': [problem_no],\n",
    "        'Robot_Plan_Size': [pr_obj.robot_plan_cost],\n",
    "        'Human_Plan_Size': [pr_obj.human_plan_cost],\n",
    "        'Solutions Length': [len(pr_obj.previous_difference[-1])+len(pr_obj.excuse_list[-1])],\n",
    "        'Total Time': [total_time],\n",
    "        'Explanation Solutions': [pr_obj.previous_difference[-1]],\n",
    "        'Excuse Solutions': [pr_obj.excuse_list[0]],\n",
    "    })\n",
    "\n",
    "    df = pd.concat([df, new_row], ignore_index=True)\n",
    "\n",
    "    # Write the DataFrame to a CSV file\n",
    "    #change this later ,not saving everything\n",
    "    df.to_csv('long_3_res_exc_exp_2_Depots_p4.csv', index=False)\n",
    "            \n",
    "\n"
   ]
  },
  {
   "cell_type": "code",
   "execution_count": null,
   "id": "c7ad6ad9",
   "metadata": {
    "ExecuteTime": {
     "end_time": "2024-02-27T05:54:27.130717Z",
     "start_time": "2024-02-27T05:54:27.126840Z"
    }
   },
   "outputs": [],
   "source": [
    "len(pr_obj.previous_difference[-1])"
   ]
  },
  {
   "cell_type": "code",
   "execution_count": null,
   "id": "4ad02cbc",
   "metadata": {
    "ExecuteTime": {
     "end_time": "2024-02-27T05:54:27.151185Z",
     "start_time": "2024-02-27T05:54:27.131882Z"
    }
   },
   "outputs": [],
   "source": [
    "pr_obj.robot_state"
   ]
  }
 ],
 "metadata": {
  "kernelspec": {
   "display_name": "Python 3 (ipykernel)",
   "language": "python",
   "name": "python3"
  },
  "language_info": {
   "codemirror_mode": {
    "name": "ipython",
    "version": 3
   },
   "file_extension": ".py",
   "mimetype": "text/x-python",
   "name": "python",
   "nbconvert_exporter": "python",
   "pygments_lexer": "ipython3",
   "version": "3.9.16"
  },
  "toc": {
   "base_numbering": 1,
   "nav_menu": {},
   "number_sections": true,
   "sideBar": true,
   "skip_h1_title": false,
   "title_cell": "Table of Contents",
   "title_sidebar": "Contents",
   "toc_cell": false,
   "toc_position": {},
   "toc_section_display": true,
   "toc_window_display": false
  }
 },
 "nbformat": 4,
 "nbformat_minor": 5
}
